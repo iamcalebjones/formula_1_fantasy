{
 "cells": [
  {
   "cell_type": "markdown",
   "id": "b0cdfe24-d4c3-4da7-ae49-1c533822dc04",
   "metadata": {},
   "source": [
    "sheet flow:\n",
    "\n",
    "- ~~define track of interest based on sheet_gid dict~~\n",
    "- ~~read in weekend dataframe~~\n",
    "- ~~run function drop_empties~~\n",
    "- ~~run function check_df~~\n",
    "- ~~produce these lists:~~\n",
    "    - ~~predicted_qualifying_order, actual_qualifying_order, predicted_race_order, actual_race_order~~\n",
    "- ~~produce these dfs:~~\n",
    "    - ~~constructor_pricing, driver_pricing~~\n",
    "- ~~produce these lists:~~\n",
    "    - ~~drivers, constructors~~\n",
    "- ~~set up constants for tracking weekend scores~~\n",
    "    - ~~constructor_scores, driver_scores~~\n",
    "- ~~run function score_qualification_order~~\n",
    "- run function score_race_order\n",
    "- run function score_fastest_pitstop\n",
    "- run function score_fastest_lap\n",
    "    \n",
    "still to-do:\n",
    "- ~~changing the overtake bonus/gain/loss points from estimations to direct reports in fantasy~~\n",
    "- produce df of driver and constructor pricing for making team affordability calculations each week, later when i get to the full program part of it\n",
    "- incorporate the team recommendation function that the post i found used\n",
    "- write function scoring the predictions only\n",
    "    - assume difference between predicted qualifying position and predicted race position are direct gain/loss\n",
    "- ~~incorporate the pieces into scoring all of the race into one function~~\n",
    "    - ~~qualifying, race, superlatives, overtakes+gain/loss~~\n",
    "- make google sheet of teams and track team composition through each weekend\n",
    "    - read this in, figure out if i can define a range of cells so i can do all three teams on the same google sheet or if i'm going to have to do a separate sheet for each\n",
    "- add scoring for my team to use for the team recommendations\n",
    "- add ability to handle DNF, DNQ, and OUT (sainz, stroll, zhou at saudi arabia)"
   ]
  },
  {
   "cell_type": "code",
   "execution_count": 1,
   "id": "f97e107a-e899-4c9f-8d53-d5dcf08e47c0",
   "metadata": {},
   "outputs": [],
   "source": [
    "from weekend_functions import *"
   ]
  },
  {
   "cell_type": "markdown",
   "id": "99cf16a0-5509-42dd-8ca0-aabe1ab6f4a4",
   "metadata": {},
   "source": [
    "### Define Track and Read In Weekend Data"
   ]
  },
  {
   "cell_type": "code",
   "execution_count": 2,
   "id": "74aa7e86-ba5f-4382-816b-695949e49fb3",
   "metadata": {},
   "outputs": [],
   "source": [
    "track_name = 'saudi_arabia'"
   ]
  },
  {
   "cell_type": "code",
   "execution_count": 3,
   "id": "18c176c2-7920-45cd-b4ac-b2675d6357d9",
   "metadata": {},
   "outputs": [
    {
     "name": "stdout",
     "output_type": "stream",
     "text": [
      "Column \"fp1_saudi_arabia\" has an issue with the finishing positins represented in the data!\n",
      "[1, 2, 3, 4, 5, 6, 7, 8, 9, 10, 11, 12, 13, 14, 15, 16, 17, 18, 19, 20, 100]\n",
      "\n",
      "\n",
      "Column \"fp2_saudi_arabia\" has an issue with the finishing positins represented in the data!\n",
      "[1, 2, 3, 4, 5, 6, 7, 8, 9, 10, 11, 12, 13, 14, 15, 16, 17, 18, 19, 20, 100]\n",
      "\n",
      "\n",
      "Column \"fp3_saudi_arabia\" has an issue with the finishing positins represented in the data!\n",
      "[1, 2, 3, 4, 5, 6, 7, 8, 9, 10, 11, 12, 13, 14, 15, 16, 17, 18, 19, 20, 100]\n",
      "\n",
      "\n",
      "Column \"predicted_qualifying_saudi_arabia\" has an issue with the finishing positins represented in the data!\n",
      "[1, 2, 3, 4, 5, 6, 7, 8, 9, 10, 11, 12, 13, 14, 15, 16, 17, 18, 19, 20, 100]\n",
      "\n",
      "\n",
      "Column \"actual_qualifying_saudi_arabia\" has an issue with the finishing positins represented in the data!\n",
      "[1, 2, 3, 4, 5, 6, 7, 8, 9, 10, 11, 12, 13, 14, 15, 16, 17, 18, 19, 100, 300]\n",
      "\n",
      "\n",
      "Column \"predicted_race_saudi_arabia\" has an issue with the finishing positins represented in the data!\n",
      "[1, 2, 3, 4, 5, 6, 7, 8, 9, 10, 11, 12, 13, 14, 15, 16, 17, 18, 19, 20, 100]\n",
      "\n",
      "\n",
      "Column \"actual_race_saudi_arabia\" has an issue with the finishing positins represented in the data!\n",
      "[1, 2, 3, 4, 5, 6, 7, 8, 9, 10, 11, 12, 13, 14, 15, 16, 17, 18, 100, 200, 200]\n",
      "\n",
      "\n"
     ]
    },
    {
     "data": {
      "text/html": [
       "<div>\n",
       "<style scoped>\n",
       "    .dataframe tbody tr th:only-of-type {\n",
       "        vertical-align: middle;\n",
       "    }\n",
       "\n",
       "    .dataframe tbody tr th {\n",
       "        vertical-align: top;\n",
       "    }\n",
       "\n",
       "    .dataframe thead th {\n",
       "        text-align: right;\n",
       "    }\n",
       "</style>\n",
       "<table border=\"1\" class=\"dataframe\">\n",
       "  <thead>\n",
       "    <tr style=\"text-align: right;\">\n",
       "      <th></th>\n",
       "      <th>Team</th>\n",
       "      <th>Driver</th>\n",
       "      <th>fp1_saudi_arabia</th>\n",
       "      <th>fp2_saudi_arabia</th>\n",
       "      <th>fp3_saudi_arabia</th>\n",
       "      <th>predicted_qualifying_saudi_arabia</th>\n",
       "      <th>actual_qualifying_saudi_arabia</th>\n",
       "      <th>predicted_race_saudi_arabia</th>\n",
       "      <th>actual_race_saudi_arabia</th>\n",
       "      <th>positions_gained_saudi_arabia</th>\n",
       "      <th>overtake_bonus_saudi_arabia</th>\n",
       "    </tr>\n",
       "  </thead>\n",
       "  <tbody>\n",
       "    <tr>\n",
       "      <th>0</th>\n",
       "      <td>Red Bull Racing-RBPT</td>\n",
       "      <td>Max Verstappen</td>\n",
       "      <td>1</td>\n",
       "      <td>3</td>\n",
       "      <td>1</td>\n",
       "      <td>1</td>\n",
       "      <td>1</td>\n",
       "      <td>1</td>\n",
       "      <td>1</td>\n",
       "      <td>0</td>\n",
       "      <td>1</td>\n",
       "    </tr>\n",
       "    <tr>\n",
       "      <th>1</th>\n",
       "      <td>Red Bull Racing-RBPT</td>\n",
       "      <td>Sergio Perez</td>\n",
       "      <td>3</td>\n",
       "      <td>5</td>\n",
       "      <td>3</td>\n",
       "      <td>3</td>\n",
       "      <td>3</td>\n",
       "      <td>2</td>\n",
       "      <td>2</td>\n",
       "      <td>1</td>\n",
       "      <td>4</td>\n",
       "    </tr>\n",
       "    <tr>\n",
       "      <th>2</th>\n",
       "      <td>Ferrari</td>\n",
       "      <td>Charles Leclerc</td>\n",
       "      <td>5</td>\n",
       "      <td>4</td>\n",
       "      <td>2</td>\n",
       "      <td>2</td>\n",
       "      <td>2</td>\n",
       "      <td>3</td>\n",
       "      <td>3</td>\n",
       "      <td>-1</td>\n",
       "      <td>4</td>\n",
       "    </tr>\n",
       "    <tr>\n",
       "      <th>3</th>\n",
       "      <td>McLaren-Mercedes</td>\n",
       "      <td>Oscar Piastri</td>\n",
       "      <td>15</td>\n",
       "      <td>10</td>\n",
       "      <td>8</td>\n",
       "      <td>9</td>\n",
       "      <td>5</td>\n",
       "      <td>9</td>\n",
       "      <td>4</td>\n",
       "      <td>1</td>\n",
       "      <td>4</td>\n",
       "    </tr>\n",
       "    <tr>\n",
       "      <th>4</th>\n",
       "      <td>Aston Martin Aramco-Mercedes</td>\n",
       "      <td>Fernando Alonso</td>\n",
       "      <td>2</td>\n",
       "      <td>1</td>\n",
       "      <td>6</td>\n",
       "      <td>4</td>\n",
       "      <td>4</td>\n",
       "      <td>6</td>\n",
       "      <td>5</td>\n",
       "      <td>0</td>\n",
       "      <td>0</td>\n",
       "    </tr>\n",
       "    <tr>\n",
       "      <th>5</th>\n",
       "      <td>Mercedes</td>\n",
       "      <td>George Russell</td>\n",
       "      <td>4</td>\n",
       "      <td>2</td>\n",
       "      <td>4</td>\n",
       "      <td>5</td>\n",
       "      <td>7</td>\n",
       "      <td>5</td>\n",
       "      <td>6</td>\n",
       "      <td>1</td>\n",
       "      <td>2</td>\n",
       "    </tr>\n",
       "    <tr>\n",
       "      <th>6</th>\n",
       "      <td>Ferrari</td>\n",
       "      <td>Oliver Bearman</td>\n",
       "      <td>100</td>\n",
       "      <td>100</td>\n",
       "      <td>10</td>\n",
       "      <td>100</td>\n",
       "      <td>11</td>\n",
       "      <td>100</td>\n",
       "      <td>7</td>\n",
       "      <td>4</td>\n",
       "      <td>6</td>\n",
       "    </tr>\n",
       "    <tr>\n",
       "      <th>7</th>\n",
       "      <td>McLaren-Mercedes</td>\n",
       "      <td>Lando Norris</td>\n",
       "      <td>7</td>\n",
       "      <td>12</td>\n",
       "      <td>5</td>\n",
       "      <td>7</td>\n",
       "      <td>6</td>\n",
       "      <td>8</td>\n",
       "      <td>8</td>\n",
       "      <td>-2</td>\n",
       "      <td>1</td>\n",
       "    </tr>\n",
       "    <tr>\n",
       "      <th>8</th>\n",
       "      <td>Mercedes</td>\n",
       "      <td>Lewis Hamilton</td>\n",
       "      <td>8</td>\n",
       "      <td>8</td>\n",
       "      <td>9</td>\n",
       "      <td>8</td>\n",
       "      <td>8</td>\n",
       "      <td>7</td>\n",
       "      <td>9</td>\n",
       "      <td>-1</td>\n",
       "      <td>2</td>\n",
       "    </tr>\n",
       "    <tr>\n",
       "      <th>9</th>\n",
       "      <td>Haas-Ferrari</td>\n",
       "      <td>Nico Hulkenberg</td>\n",
       "      <td>19</td>\n",
       "      <td>18</td>\n",
       "      <td>15</td>\n",
       "      <td>17</td>\n",
       "      <td>15</td>\n",
       "      <td>20</td>\n",
       "      <td>10</td>\n",
       "      <td>5</td>\n",
       "      <td>3</td>\n",
       "    </tr>\n",
       "    <tr>\n",
       "      <th>10</th>\n",
       "      <td>Williams-Mercedes</td>\n",
       "      <td>Alexander Albon</td>\n",
       "      <td>10</td>\n",
       "      <td>14</td>\n",
       "      <td>17</td>\n",
       "      <td>15</td>\n",
       "      <td>12</td>\n",
       "      <td>15</td>\n",
       "      <td>11</td>\n",
       "      <td>1</td>\n",
       "      <td>5</td>\n",
       "    </tr>\n",
       "    <tr>\n",
       "      <th>11</th>\n",
       "      <td>Haas-Ferrari</td>\n",
       "      <td>Kevin Magnussen</td>\n",
       "      <td>20</td>\n",
       "      <td>17</td>\n",
       "      <td>11</td>\n",
       "      <td>19</td>\n",
       "      <td>13</td>\n",
       "      <td>18</td>\n",
       "      <td>12</td>\n",
       "      <td>1</td>\n",
       "      <td>6</td>\n",
       "    </tr>\n",
       "    <tr>\n",
       "      <th>12</th>\n",
       "      <td>Alpine-Renault</td>\n",
       "      <td>Esteban Ocon</td>\n",
       "      <td>13</td>\n",
       "      <td>15</td>\n",
       "      <td>14</td>\n",
       "      <td>13</td>\n",
       "      <td>17</td>\n",
       "      <td>13</td>\n",
       "      <td>13</td>\n",
       "      <td>4</td>\n",
       "      <td>4</td>\n",
       "    </tr>\n",
       "    <tr>\n",
       "      <th>13</th>\n",
       "      <td>Williams-Mercedes</td>\n",
       "      <td>Logan Sargeant</td>\n",
       "      <td>14</td>\n",
       "      <td>16</td>\n",
       "      <td>20</td>\n",
       "      <td>18</td>\n",
       "      <td>19</td>\n",
       "      <td>17</td>\n",
       "      <td>14</td>\n",
       "      <td>5</td>\n",
       "      <td>2</td>\n",
       "    </tr>\n",
       "    <tr>\n",
       "      <th>14</th>\n",
       "      <td>VisaCashApp RB</td>\n",
       "      <td>Yuki Tsunoda</td>\n",
       "      <td>16</td>\n",
       "      <td>11</td>\n",
       "      <td>13</td>\n",
       "      <td>11</td>\n",
       "      <td>9</td>\n",
       "      <td>11</td>\n",
       "      <td>15</td>\n",
       "      <td>-6</td>\n",
       "      <td>3</td>\n",
       "    </tr>\n",
       "    <tr>\n",
       "      <th>15</th>\n",
       "      <td>VisaCashApp RB</td>\n",
       "      <td>Daniel Ricciardo</td>\n",
       "      <td>12</td>\n",
       "      <td>19</td>\n",
       "      <td>16</td>\n",
       "      <td>14</td>\n",
       "      <td>14</td>\n",
       "      <td>14</td>\n",
       "      <td>16</td>\n",
       "      <td>-2</td>\n",
       "      <td>2</td>\n",
       "    </tr>\n",
       "    <tr>\n",
       "      <th>16</th>\n",
       "      <td>Stake F1 Team Kick Sauber</td>\n",
       "      <td>Valtteri Bottas</td>\n",
       "      <td>11</td>\n",
       "      <td>20</td>\n",
       "      <td>18</td>\n",
       "      <td>16</td>\n",
       "      <td>16</td>\n",
       "      <td>16</td>\n",
       "      <td>17</td>\n",
       "      <td>-1</td>\n",
       "      <td>0</td>\n",
       "    </tr>\n",
       "    <tr>\n",
       "      <th>17</th>\n",
       "      <td>Stake F1 Team Kick Sauber</td>\n",
       "      <td>Guanyu Zhou</td>\n",
       "      <td>18</td>\n",
       "      <td>13</td>\n",
       "      <td>19</td>\n",
       "      <td>20</td>\n",
       "      <td>300</td>\n",
       "      <td>19</td>\n",
       "      <td>18</td>\n",
       "      <td>2</td>\n",
       "      <td>1</td>\n",
       "    </tr>\n",
       "    <tr>\n",
       "      <th>18</th>\n",
       "      <td>Aston Martin Aramco-Mercedes</td>\n",
       "      <td>Lance Stroll</td>\n",
       "      <td>9</td>\n",
       "      <td>6</td>\n",
       "      <td>7</td>\n",
       "      <td>10</td>\n",
       "      <td>10</td>\n",
       "      <td>10</td>\n",
       "      <td>200</td>\n",
       "      <td>0</td>\n",
       "      <td>2</td>\n",
       "    </tr>\n",
       "    <tr>\n",
       "      <th>19</th>\n",
       "      <td>Alpine-Renault</td>\n",
       "      <td>Pierre Gasly</td>\n",
       "      <td>17</td>\n",
       "      <td>9</td>\n",
       "      <td>12</td>\n",
       "      <td>12</td>\n",
       "      <td>18</td>\n",
       "      <td>12</td>\n",
       "      <td>200</td>\n",
       "      <td>0</td>\n",
       "      <td>0</td>\n",
       "    </tr>\n",
       "    <tr>\n",
       "      <th>20</th>\n",
       "      <td>Ferrari</td>\n",
       "      <td>Carlos Sainz Jr.</td>\n",
       "      <td>6</td>\n",
       "      <td>7</td>\n",
       "      <td>100</td>\n",
       "      <td>6</td>\n",
       "      <td>100</td>\n",
       "      <td>4</td>\n",
       "      <td>100</td>\n",
       "      <td>0</td>\n",
       "      <td>0</td>\n",
       "    </tr>\n",
       "  </tbody>\n",
       "</table>\n",
       "</div>"
      ],
      "text/plain": [
       "                            Team            Driver  fp1_saudi_arabia  \\\n",
       "0           Red Bull Racing-RBPT    Max Verstappen                 1   \n",
       "1           Red Bull Racing-RBPT      Sergio Perez                 3   \n",
       "2                        Ferrari   Charles Leclerc                 5   \n",
       "3               McLaren-Mercedes     Oscar Piastri                15   \n",
       "4   Aston Martin Aramco-Mercedes   Fernando Alonso                 2   \n",
       "5                       Mercedes    George Russell                 4   \n",
       "6                        Ferrari    Oliver Bearman               100   \n",
       "7               McLaren-Mercedes      Lando Norris                 7   \n",
       "8                       Mercedes    Lewis Hamilton                 8   \n",
       "9                   Haas-Ferrari   Nico Hulkenberg                19   \n",
       "10             Williams-Mercedes   Alexander Albon                10   \n",
       "11                  Haas-Ferrari   Kevin Magnussen                20   \n",
       "12                Alpine-Renault      Esteban Ocon                13   \n",
       "13             Williams-Mercedes    Logan Sargeant                14   \n",
       "14                VisaCashApp RB      Yuki Tsunoda                16   \n",
       "15                VisaCashApp RB  Daniel Ricciardo                12   \n",
       "16     Stake F1 Team Kick Sauber   Valtteri Bottas                11   \n",
       "17     Stake F1 Team Kick Sauber       Guanyu Zhou                18   \n",
       "18  Aston Martin Aramco-Mercedes      Lance Stroll                 9   \n",
       "19                Alpine-Renault      Pierre Gasly                17   \n",
       "20                       Ferrari  Carlos Sainz Jr.                 6   \n",
       "\n",
       "    fp2_saudi_arabia  fp3_saudi_arabia  predicted_qualifying_saudi_arabia  \\\n",
       "0                  3                 1                                  1   \n",
       "1                  5                 3                                  3   \n",
       "2                  4                 2                                  2   \n",
       "3                 10                 8                                  9   \n",
       "4                  1                 6                                  4   \n",
       "5                  2                 4                                  5   \n",
       "6                100                10                                100   \n",
       "7                 12                 5                                  7   \n",
       "8                  8                 9                                  8   \n",
       "9                 18                15                                 17   \n",
       "10                14                17                                 15   \n",
       "11                17                11                                 19   \n",
       "12                15                14                                 13   \n",
       "13                16                20                                 18   \n",
       "14                11                13                                 11   \n",
       "15                19                16                                 14   \n",
       "16                20                18                                 16   \n",
       "17                13                19                                 20   \n",
       "18                 6                 7                                 10   \n",
       "19                 9                12                                 12   \n",
       "20                 7               100                                  6   \n",
       "\n",
       "    actual_qualifying_saudi_arabia  predicted_race_saudi_arabia  \\\n",
       "0                                1                            1   \n",
       "1                                3                            2   \n",
       "2                                2                            3   \n",
       "3                                5                            9   \n",
       "4                                4                            6   \n",
       "5                                7                            5   \n",
       "6                               11                          100   \n",
       "7                                6                            8   \n",
       "8                                8                            7   \n",
       "9                               15                           20   \n",
       "10                              12                           15   \n",
       "11                              13                           18   \n",
       "12                              17                           13   \n",
       "13                              19                           17   \n",
       "14                               9                           11   \n",
       "15                              14                           14   \n",
       "16                              16                           16   \n",
       "17                             300                           19   \n",
       "18                              10                           10   \n",
       "19                              18                           12   \n",
       "20                             100                            4   \n",
       "\n",
       "    actual_race_saudi_arabia  positions_gained_saudi_arabia  \\\n",
       "0                          1                              0   \n",
       "1                          2                              1   \n",
       "2                          3                             -1   \n",
       "3                          4                              1   \n",
       "4                          5                              0   \n",
       "5                          6                              1   \n",
       "6                          7                              4   \n",
       "7                          8                             -2   \n",
       "8                          9                             -1   \n",
       "9                         10                              5   \n",
       "10                        11                              1   \n",
       "11                        12                              1   \n",
       "12                        13                              4   \n",
       "13                        14                              5   \n",
       "14                        15                             -6   \n",
       "15                        16                             -2   \n",
       "16                        17                             -1   \n",
       "17                        18                              2   \n",
       "18                       200                              0   \n",
       "19                       200                              0   \n",
       "20                       100                              0   \n",
       "\n",
       "    overtake_bonus_saudi_arabia  \n",
       "0                             1  \n",
       "1                             4  \n",
       "2                             4  \n",
       "3                             4  \n",
       "4                             0  \n",
       "5                             2  \n",
       "6                             6  \n",
       "7                             1  \n",
       "8                             2  \n",
       "9                             3  \n",
       "10                            5  \n",
       "11                            6  \n",
       "12                            4  \n",
       "13                            2  \n",
       "14                            3  \n",
       "15                            2  \n",
       "16                            0  \n",
       "17                            1  \n",
       "18                            2  \n",
       "19                            0  \n",
       "20                            0  "
      ]
     },
     "execution_count": 3,
     "metadata": {},
     "output_type": "execute_result"
    }
   ],
   "source": [
    "# read in from google sheets the sheet for this weekend's events\n",
    "weekend_df = pd.read_csv(f'https://docs.google.com/spreadsheets/d/14kBO9LAo4-uPrQlH6xm_Fm2OcNB15xUdnzUbIaRFjOU/export?format=csv&gid={sheet_gid[track_name]}')\n",
    "\n",
    "weekend_df = drop_empties(weekend_df)\n",
    "check_df(weekend_df)\n",
    "\n",
    "weekend_df"
   ]
  },
  {
   "cell_type": "code",
   "execution_count": 4,
   "id": "36371820-853a-422f-b327-bd5ddab4780b",
   "metadata": {},
   "outputs": [
    {
     "name": "stdout",
     "output_type": "stream",
     "text": [
      "<class 'pandas.core.frame.DataFrame'>\n",
      "RangeIndex: 21 entries, 0 to 20\n",
      "Data columns (total 11 columns):\n",
      " #   Column                             Non-Null Count  Dtype \n",
      "---  ------                             --------------  ----- \n",
      " 0   Team                               21 non-null     object\n",
      " 1   Driver                             21 non-null     object\n",
      " 2   fp1_saudi_arabia                   21 non-null     int64 \n",
      " 3   fp2_saudi_arabia                   21 non-null     int64 \n",
      " 4   fp3_saudi_arabia                   21 non-null     int64 \n",
      " 5   predicted_qualifying_saudi_arabia  21 non-null     int64 \n",
      " 6   actual_qualifying_saudi_arabia     21 non-null     int64 \n",
      " 7   predicted_race_saudi_arabia        21 non-null     int64 \n",
      " 8   actual_race_saudi_arabia           21 non-null     int64 \n",
      " 9   positions_gained_saudi_arabia      21 non-null     int64 \n",
      " 10  overtake_bonus_saudi_arabia        21 non-null     int64 \n",
      "dtypes: int64(9), object(2)\n",
      "memory usage: 1.9+ KB\n"
     ]
    }
   ],
   "source": [
    "weekend_df.info()"
   ]
  },
  {
   "cell_type": "markdown",
   "id": "557502f9-2a42-40fa-8856-b6aafdf1f483",
   "metadata": {},
   "source": [
    "### Define Predicted Qualifying, Actual Qualifying, Predicted Race, Actual Race Orders, Driver Gain/Loss"
   ]
  },
  {
   "cell_type": "code",
   "execution_count": 4,
   "id": "bf1898ae-ba0e-4aea-8284-9818cea78bac",
   "metadata": {},
   "outputs": [],
   "source": [
    "# qualifying orders\n",
    "predicted_qualifying_order = weekend_df[['Driver', f'predicted_qualifying_{track_name}']].sort_values(by=[f'predicted_qualifying_{track_name}'])['Driver'].tolist()\n",
    "actual_qualifying_order = weekend_df[['Driver', f'actual_qualifying_{track_name}']].sort_values(by=[f'actual_qualifying_{track_name}'])['Driver'].tolist()\n",
    "\n",
    "# race orders\n",
    "predicted_race_order = weekend_df[['Driver', f'predicted_race_{track_name}']].sort_values(by=[f'predicted_race_{track_name}'])['Driver'].tolist()\n",
    "if f'actual_race_{track_name}' in weekend_df.columns:\n",
    "    actual_race_order = weekend_df[['Driver', f'actual_race_{track_name}']].sort_values(by=[f'actual_race_{track_name}'])['Driver'].tolist()\n",
    "\n",
    "# driver_gain_loss\n",
    "driver_gain_loss_overtake = {}\n",
    "for driver in weekend_df.Driver:\n",
    "    driver_gain_loss_overtake[driver] = {}\n",
    "    driver_gain_loss_overtake[driver]['gain_loss'] = weekend_df.loc[weekend_df['Driver'] == driver][[f'positions_gained_{track_name}']].values[0][0]\n",
    "    driver_gain_loss_overtake[driver]['overtake'] = weekend_df.loc[weekend_df['Driver'] == driver][[f'overtake_bonus_{track_name}']].values[0][0]"
   ]
  },
  {
   "cell_type": "code",
   "execution_count": 7,
   "id": "4b862eea-f5ec-433f-a9d8-cf6b1c8da335",
   "metadata": {},
   "outputs": [
    {
     "data": {
      "text/html": [
       "<div>\n",
       "<style scoped>\n",
       "    .dataframe tbody tr th:only-of-type {\n",
       "        vertical-align: middle;\n",
       "    }\n",
       "\n",
       "    .dataframe tbody tr th {\n",
       "        vertical-align: top;\n",
       "    }\n",
       "\n",
       "    .dataframe thead th {\n",
       "        text-align: right;\n",
       "    }\n",
       "</style>\n",
       "<table border=\"1\" class=\"dataframe\">\n",
       "  <thead>\n",
       "    <tr style=\"text-align: right;\">\n",
       "      <th></th>\n",
       "      <th>Driver</th>\n",
       "      <th>predicted_race_saudi_arabia</th>\n",
       "    </tr>\n",
       "  </thead>\n",
       "  <tbody>\n",
       "    <tr>\n",
       "      <th>0</th>\n",
       "      <td>Max Verstappen</td>\n",
       "      <td>1</td>\n",
       "    </tr>\n",
       "    <tr>\n",
       "      <th>1</th>\n",
       "      <td>Sergio Perez</td>\n",
       "      <td>2</td>\n",
       "    </tr>\n",
       "    <tr>\n",
       "      <th>2</th>\n",
       "      <td>Charles Leclerc</td>\n",
       "      <td>3</td>\n",
       "    </tr>\n",
       "    <tr>\n",
       "      <th>20</th>\n",
       "      <td>Carlos Sainz Jr.</td>\n",
       "      <td>4</td>\n",
       "    </tr>\n",
       "    <tr>\n",
       "      <th>5</th>\n",
       "      <td>George Russell</td>\n",
       "      <td>5</td>\n",
       "    </tr>\n",
       "    <tr>\n",
       "      <th>4</th>\n",
       "      <td>Fernando Alonso</td>\n",
       "      <td>6</td>\n",
       "    </tr>\n",
       "    <tr>\n",
       "      <th>8</th>\n",
       "      <td>Lewis Hamilton</td>\n",
       "      <td>7</td>\n",
       "    </tr>\n",
       "    <tr>\n",
       "      <th>7</th>\n",
       "      <td>Lando Norris</td>\n",
       "      <td>8</td>\n",
       "    </tr>\n",
       "    <tr>\n",
       "      <th>3</th>\n",
       "      <td>Oscar Piastri</td>\n",
       "      <td>9</td>\n",
       "    </tr>\n",
       "    <tr>\n",
       "      <th>18</th>\n",
       "      <td>Lance Stroll</td>\n",
       "      <td>10</td>\n",
       "    </tr>\n",
       "    <tr>\n",
       "      <th>14</th>\n",
       "      <td>Yuki Tsunoda</td>\n",
       "      <td>11</td>\n",
       "    </tr>\n",
       "    <tr>\n",
       "      <th>19</th>\n",
       "      <td>Pierre Gasly</td>\n",
       "      <td>12</td>\n",
       "    </tr>\n",
       "    <tr>\n",
       "      <th>12</th>\n",
       "      <td>Esteban Ocon</td>\n",
       "      <td>13</td>\n",
       "    </tr>\n",
       "    <tr>\n",
       "      <th>15</th>\n",
       "      <td>Daniel Ricciardo</td>\n",
       "      <td>14</td>\n",
       "    </tr>\n",
       "    <tr>\n",
       "      <th>10</th>\n",
       "      <td>Alexander Albon</td>\n",
       "      <td>15</td>\n",
       "    </tr>\n",
       "    <tr>\n",
       "      <th>16</th>\n",
       "      <td>Valtteri Bottas</td>\n",
       "      <td>16</td>\n",
       "    </tr>\n",
       "    <tr>\n",
       "      <th>13</th>\n",
       "      <td>Logan Sargeant</td>\n",
       "      <td>17</td>\n",
       "    </tr>\n",
       "    <tr>\n",
       "      <th>11</th>\n",
       "      <td>Kevin Magnussen</td>\n",
       "      <td>18</td>\n",
       "    </tr>\n",
       "    <tr>\n",
       "      <th>17</th>\n",
       "      <td>Guanyu Zhou</td>\n",
       "      <td>19</td>\n",
       "    </tr>\n",
       "    <tr>\n",
       "      <th>9</th>\n",
       "      <td>Nico Hulkenberg</td>\n",
       "      <td>20</td>\n",
       "    </tr>\n",
       "    <tr>\n",
       "      <th>6</th>\n",
       "      <td>Oliver Bearman</td>\n",
       "      <td>100</td>\n",
       "    </tr>\n",
       "  </tbody>\n",
       "</table>\n",
       "</div>"
      ],
      "text/plain": [
       "              Driver  predicted_race_saudi_arabia\n",
       "0     Max Verstappen                            1\n",
       "1       Sergio Perez                            2\n",
       "2    Charles Leclerc                            3\n",
       "20  Carlos Sainz Jr.                            4\n",
       "5     George Russell                            5\n",
       "4    Fernando Alonso                            6\n",
       "8     Lewis Hamilton                            7\n",
       "7       Lando Norris                            8\n",
       "3      Oscar Piastri                            9\n",
       "18      Lance Stroll                           10\n",
       "14      Yuki Tsunoda                           11\n",
       "19      Pierre Gasly                           12\n",
       "12      Esteban Ocon                           13\n",
       "15  Daniel Ricciardo                           14\n",
       "10   Alexander Albon                           15\n",
       "16   Valtteri Bottas                           16\n",
       "13    Logan Sargeant                           17\n",
       "11   Kevin Magnussen                           18\n",
       "17       Guanyu Zhou                           19\n",
       "9    Nico Hulkenberg                           20\n",
       "6     Oliver Bearman                          100"
      ]
     },
     "execution_count": 7,
     "metadata": {},
     "output_type": "execute_result"
    }
   ],
   "source": [
    "weekend_df[['Driver', f'predicted_race_{track_name}']].sort_values(by=[f'predicted_race_{track_name}'])"
   ]
  },
  {
   "cell_type": "markdown",
   "id": "6c16bda5-46e5-47d1-befe-47dbb8b9809a",
   "metadata": {},
   "source": [
    "### Constructor-Driver Setup and Constructor/Driver Prices"
   ]
  },
  {
   "cell_type": "code",
   "execution_count": 5,
   "id": "e3ade578-12f6-494c-a9fa-383f82e340e4",
   "metadata": {},
   "outputs": [],
   "source": [
    "driver_to_constructor, constructor_to_driver = driver_constructor_mappings(weekend_df)"
   ]
  },
  {
   "cell_type": "code",
   "execution_count": 6,
   "id": "5ec42c1b-2dc1-4a39-8bbc-6a48a433ac05",
   "metadata": {},
   "outputs": [
    {
     "data": {
      "text/plain": [
       "{'Red Bull Racing-RBPT': ['Max Verstappen', 'Sergio Perez'],\n",
       " 'Ferrari': ['Charles Leclerc', 'Oliver Bearman', 'Carlos Sainz Jr.'],\n",
       " 'McLaren-Mercedes': ['Oscar Piastri', 'Lando Norris'],\n",
       " 'Aston Martin Aramco-Mercedes': ['Fernando Alonso', 'Lance Stroll'],\n",
       " 'Mercedes': ['George Russell', 'Lewis Hamilton'],\n",
       " 'Haas-Ferrari': ['Nico Hulkenberg', 'Kevin Magnussen'],\n",
       " 'Williams-Mercedes': ['Alexander Albon', 'Logan Sargeant'],\n",
       " 'Alpine-Renault': ['Esteban Ocon', 'Pierre Gasly'],\n",
       " 'VisaCashApp RB': ['Yuki Tsunoda', 'Daniel Ricciardo'],\n",
       " 'Stake F1 Team Kick Sauber': ['Valtteri Bottas', 'Guanyu Zhou']}"
      ]
     },
     "execution_count": 6,
     "metadata": {},
     "output_type": "execute_result"
    }
   ],
   "source": [
    "constructor_to_driver"
   ]
  },
  {
   "cell_type": "code",
   "execution_count": 7,
   "id": "47a2a36f-403e-4b3b-a0c3-06a68c67ca90",
   "metadata": {},
   "outputs": [
    {
     "data": {
      "text/plain": [
       "{'Max Verstappen': 'Red Bull Racing-RBPT',\n",
       " 'Sergio Perez': 'Red Bull Racing-RBPT',\n",
       " 'Charles Leclerc': 'Ferrari',\n",
       " 'Oscar Piastri': 'McLaren-Mercedes',\n",
       " 'Fernando Alonso': 'Aston Martin Aramco-Mercedes',\n",
       " 'George Russell': 'Mercedes',\n",
       " 'Oliver Bearman': 'Ferrari',\n",
       " 'Lando Norris': 'McLaren-Mercedes',\n",
       " 'Lewis Hamilton': 'Mercedes',\n",
       " 'Nico Hulkenberg': 'Haas-Ferrari',\n",
       " 'Alexander Albon': 'Williams-Mercedes',\n",
       " 'Kevin Magnussen': 'Haas-Ferrari',\n",
       " 'Esteban Ocon': 'Alpine-Renault',\n",
       " 'Logan Sargeant': 'Williams-Mercedes',\n",
       " 'Yuki Tsunoda': 'VisaCashApp RB',\n",
       " 'Daniel Ricciardo': 'VisaCashApp RB',\n",
       " 'Valtteri Bottas': 'Stake F1 Team Kick Sauber',\n",
       " 'Guanyu Zhou': 'Stake F1 Team Kick Sauber',\n",
       " 'Lance Stroll': 'Aston Martin Aramco-Mercedes',\n",
       " 'Pierre Gasly': 'Alpine-Renault',\n",
       " 'Carlos Sainz Jr.': 'Ferrari'}"
      ]
     },
     "execution_count": 7,
     "metadata": {},
     "output_type": "execute_result"
    }
   ],
   "source": [
    "driver_to_constructor"
   ]
  },
  {
   "cell_type": "code",
   "execution_count": 8,
   "id": "1a99658f-930f-435d-80f3-da9d2684130e",
   "metadata": {},
   "outputs": [],
   "source": [
    "# pricing for drivers and constructors, updated each week with the latest values from the Formula 1 Fantasy Game\n",
    "\n",
    "driver_pricing = pd.read_csv('https://docs.google.com/spreadsheets/d/14kBO9LAo4-uPrQlH6xm_Fm2OcNB15xUdnzUbIaRFjOU/export?format=csv&gid=920234107')\n",
    "constructor_pricing = pd.read_csv('https://docs.google.com/spreadsheets/d/14kBO9LAo4-uPrQlH6xm_Fm2OcNB15xUdnzUbIaRFjOU/export?format=csv&gid=1972297135')\n",
    "\n",
    "\n",
    "# lists of drivers and constructors, later used by itertools.combinations to combine into all possible teams\n",
    "### TODO: remove OUT drivers from this so that only drivers actually racing will be considered for the team combinations\n",
    "\n",
    "drivers = driver_pricing.Driver.values\n",
    "constructors = constructor_pricing.Constructor.values"
   ]
  },
  {
   "cell_type": "markdown",
   "id": "5e94d798-85e7-44fe-85a9-7cb765a6f087",
   "metadata": {},
   "source": [
    "### Current Teams"
   ]
  },
  {
   "cell_type": "code",
   "execution_count": 9,
   "id": "83876db5-fc98-4be9-b833-e4534d5e7858",
   "metadata": {},
   "outputs": [
    {
     "name": "stdout",
     "output_type": "stream",
     "text": [
      "['Max Verstappen' 'Lando Norris' 'Sergio Perez' 'Lewis Hamilton'\n",
      " 'Charles Leclerc' 'George Russell' 'Oscar Piastri' 'Carlos Sainz Jr.'\n",
      " 'Fernando Alonso' 'Lance Stroll' 'Daniel Ricciardo' 'Esteban Ocon'\n",
      " 'Yuki Tsunoda' 'Pierre Gasly' 'Guanyu Zhou' 'Alexander Albon'\n",
      " 'Kevin Magnussen' 'Valtteri Bottas' 'Nico Hulkenberg' 'Logan Sargeant'\n",
      " 'Oliver Bearman']\n",
      "['Red Bull Racing-RBPT' 'McLaren-Mercedes' 'Mercedes' 'Ferrari'\n",
      " 'Aston Martin Aramco-Mercedes' 'VisaCashApp RB' 'Alpine-Renault'\n",
      " 'Stake F1 Team Kick Sauber' 'Williams-Mercedes' 'Haas-Ferrari']\n"
     ]
    }
   ],
   "source": [
    "print(drivers)\n",
    "print(constructors)"
   ]
  },
  {
   "cell_type": "code",
   "execution_count": 10,
   "id": "9929d6c8-3a70-47b9-bb07-f79ec75b2770",
   "metadata": {},
   "outputs": [],
   "source": [
    "'''\n",
    "F-winning\n",
    "This is the team I'm playing with in the league.\n",
    "Team philosophy is a mix of analytics and feel. For example the program recommended to run Magnussen as my 5th driver\n",
    "for Bahrain, but fuck that noise, Magnussen is terrible, and he and Hulkenberg had the same price that race, so it was an easy correction\n",
    "to the programmatically suggested picks for this week.\n",
    "'''\n",
    "current_constructors_1 = ['Ferrari', 'VisaCashApp RB']\n",
    "current_drivers_1 = [\n",
    "    'Daniel Ricciardo',\n",
    "    'Carlos Sainz Jr.',\n",
    "    'Oscar Piastri',\n",
    "    'Fernando Alonso',\n",
    "    'Nico Hulkenberg',\n",
    "]\n",
    "\n",
    "'''\n",
    "F-winning-maths\n",
    "This is the team that I'm relying mainly on the program to select for me.\n",
    "I'm making some updates, like Bahrain Magnussen for Hulkenberg cuz I'm not an idiot, but otherwise, I'm going with the recommended.\n",
    "'''\n",
    "current_constructors_2 = ['Ferrari', 'VisaCashApp RB']\n",
    "current_drivers_2 = [\n",
    "    'Max Verstappen',\n",
    "    'Daniel Ricciardo',\n",
    "    'Charles Leclerc', \n",
    "    'Alexander Albon',\n",
    "    'Nico Hulkenberg'\n",
    "]\n",
    "'''\n",
    "Understooges\n",
    "this team I chose all the cheapest option for everyone just for shits and giggles\n",
    "'''\n",
    "current_constructors_3 = ['Haas-Ferrari', 'Williams-Mercedes']\n",
    "current_drivers_3 = [\n",
    "    'Logan Sargeant',\n",
    "    'Kevin Magnussen',\n",
    "    'Nico Hulkenberg',\n",
    "    'Guanyu Zhou',\n",
    "    'Valtteri Bottas'\n",
    "]"
   ]
  },
  {
   "cell_type": "markdown",
   "id": "7b766ff9-4ac5-49fd-b0f8-6c66171c9297",
   "metadata": {},
   "source": [
    "### Race Weekend Notes\n",
    "- Bahrain\n",
    "    - **F-winning: Ricciardo, Sainz, Piastri, Alonso, Hulkenberg, Ferrari, RB**\n",
    "        - K-mag was suggested by the program but K-mag more often than not makes dumb mistakes and ends up way lower than he should, so I chose Nico instead since he was the same price. This backfired this time since Nico made a preventable mistake and K-mag had a decent finish, although not in the points so whatever.\n",
    "    - **F-winning-maths: Verstappen, Ricciardo, Leclerc, Albon, Hulkenberg, Ferrari, RB**\n",
    "        - Same logic with playing Hulkenberg here, same poor result.\n",
    "    - **Understooges: Sargeant, Magnussen, Hulkenberg, Zhou, Bottas, Haas, Williams**\n",
    "        - These were all the cheapest drivers and teams at the outset of the fantasy season\n",
    "    - **Bahrain Results**\n",
    "        - F-winning: 142 points\n",
    "        - F-winning-maths: 194 points\n",
    "        - Understooges: 34 points<br><br>\n",
    "    \n",
    "- Saudi Arabia\n",
    "    - **F-winning: Verstappen, Perez, Sainz, Leclerc, Norris, Red Bull, Ferrari**\n",
    "        - **Chips:** After seeing how the scoring is actually calculated, I decided to stack my team with all the likeliest big scorers for the next weekend and used the **Limitless Chip**. Caveat is instead of Hamilton for my 5th driver, I chose Norris because he's going to have a good season.\n",
    "    - **F-winning-maths: Verstappen, Perez, Sainz, Leclerc, Hamilton, Red Bull, Ferrari**\n",
    "        - **Chips:** After seeing how the scoring is actually calculated, I decided to stack my team with all the likeliest big scorers for the next weekend and used the **Limitless Chip**. I put hamilton in the 5th driver seat behing Red Bull and Ferrari Drivers since he is statistically the 5th best driver.\n",
    "    - **Understooges: Sargeant, Magnussen, Hulkenberg, Zhou, Bottas, Haas, Williams**"
   ]
  },
  {
   "cell_type": "markdown",
   "id": "2f83ec4e-4df2-4c4c-86b4-15057743bc45",
   "metadata": {},
   "source": [
    "### Run Scoring"
   ]
  },
  {
   "cell_type": "code",
   "execution_count": 10,
   "id": "2ee47a0c-c55f-4372-ad8a-dd7d384ad5ca",
   "metadata": {},
   "outputs": [],
   "source": [
    "driver_scores = {}\n",
    "constructor_scores = {}"
   ]
  },
  {
   "cell_type": "code",
   "execution_count": 13,
   "id": "0d2d208a-5b0c-41d4-bd18-791729d3c216",
   "metadata": {},
   "outputs": [],
   "source": [
    "# score the race\n",
    "\n",
    "driver_scores, constructor_scores, driver_score_summary, constructor_score_summary = score_race_order(\n",
    "    actual_qualifying_order,\n",
    "    actual_race_order,\n",
    "    driver_scores,\n",
    "    constructor_scores,\n",
    "    driver_gain_loss_overtake,\n",
    "    driver_to_constructor,\n",
    "    constructor_to_driver)"
   ]
  },
  {
   "cell_type": "code",
   "execution_count": 16,
   "id": "d185a6d0-48b6-47c0-8403-611bef4c99d5",
   "metadata": {},
   "outputs": [],
   "source": [
    "# score Qualification\n",
    "\n",
    "driver_scores, constructor_scores, driver_score_summary, constructor_score_summary = score_qualification_order(\n",
    "    actual_qualifying_order,\n",
    "    driver_scores,\n",
    "    constructor_scores,\n",
    "    driver_to_constructor,\n",
    "    constructor_to_driver,\n",
    "    driver_score_summary,\n",
    "    constructor_score_summary)"
   ]
  },
  {
   "cell_type": "code",
   "execution_count": 19,
   "id": "15818021-c269-4c06-9d85-ae47e631269a",
   "metadata": {},
   "outputs": [],
   "source": [
    "# score superlatives\n",
    "\n",
    "driver_scores, constructor_scores, driver_score_summary, constructor_score_summary = score_superlatives(\n",
    "    driver_scores,\n",
    "    constructor_scores,\n",
    "    driver_to_constructor,\n",
    "    driver_score_summary,\n",
    "    constructor_score_summary,\n",
    "    'Max Verstappen')"
   ]
  },
  {
   "cell_type": "code",
   "execution_count": 20,
   "id": "6e7eeee0-1036-4514-b184-edb37318e4dc",
   "metadata": {},
   "outputs": [
    {
     "data": {
      "text/plain": [
       "{'Red Bull Racing-RBPT': 86,\n",
       " 'Ferrari': 58,\n",
       " 'Mercedes': 42,\n",
       " 'McLaren-Mercedes': 36,\n",
       " 'Aston Martin Aramco-Mercedes': 20,\n",
       " 'Stake F1 Team Kick Sauber': 10,\n",
       " 'Haas-Ferrari': 9,\n",
       " 'VisaCashApp RB': 7,\n",
       " 'Williams-Mercedes': 4,\n",
       " 'Alpine-Renault': 12}"
      ]
     },
     "execution_count": 20,
     "metadata": {},
     "output_type": "execute_result"
    }
   ],
   "source": [
    "constructor_scores"
   ]
  },
  {
   "cell_type": "code",
   "execution_count": 21,
   "id": "b4a709fa-f5d7-45bf-a77f-13e9f3cc5181",
   "metadata": {},
   "outputs": [
    {
     "data": {
      "text/plain": [
       "{'Max Verstappen': 45,\n",
       " 'Sergio Perez': 31,\n",
       " 'Carlos Sainz Jr.': 26,\n",
       " 'Charles Leclerc': 22,\n",
       " 'George Russell': 20,\n",
       " 'Lando Norris': 16,\n",
       " 'Lewis Hamilton': 12,\n",
       " 'Oscar Piastri': 10,\n",
       " 'Fernando Alonso': 7,\n",
       " 'Lance Stroll': 8,\n",
       " 'Guanyu Zhou': 11,\n",
       " 'Kevin Magnussen': 7,\n",
       " 'Daniel Ricciardo': 5,\n",
       " 'Yuki Tsunoda': -1,\n",
       " 'Alexander Albon': 0,\n",
       " 'Nico Hulkenberg': -3,\n",
       " 'Esteban Ocon': 7,\n",
       " 'Pierre Gasly': 6,\n",
       " 'Valtteri Bottas': 0,\n",
       " 'Logan Sargeant': 3}"
      ]
     },
     "execution_count": 21,
     "metadata": {},
     "output_type": "execute_result"
    }
   ],
   "source": [
    "driver_scores"
   ]
  },
  {
   "cell_type": "markdown",
   "id": "6b723eda-9735-45cb-9225-d9f27f74a6fa",
   "metadata": {},
   "source": [
    "### further development"
   ]
  },
  {
   "cell_type": "code",
   "execution_count": 23,
   "id": "b902a4b6-2fcd-4962-940e-ab09a02a8cd0",
   "metadata": {},
   "outputs": [],
   "source": [
    "driver_scores, constructor_scores, driver_score_summary, constructor_score_summary = score_race_full(driver_scores,\n",
    "                                                                                                     constructor_scores,\n",
    "                                                                                                     actual_qualifying_order,\n",
    "                                                                                                     actual_race_order,\n",
    "                                                                                                     driver_gain_loss_overtake,\n",
    "                                                                                                     driver_to_constructor,\n",
    "                                                                                                     constructor_to_driver,\n",
    "                                                                                                     'Max Verstappen', \n",
    "                                                                                                     'Carlos Sainz Jr.',\n",
    "                                                                                                     'Ferrari', \n",
    "                                                                                                     'Ferrari',\n",
    "                                                                                                     'Red Bull Racing-RBPT')"
   ]
  },
  {
   "cell_type": "code",
   "execution_count": 24,
   "id": "b437728e-e77b-4888-90e0-973784a77606",
   "metadata": {},
   "outputs": [
    {
     "data": {
      "text/plain": [
       "{'Max Verstappen': 45,\n",
       " 'Sergio Perez': 31,\n",
       " 'Carlos Sainz Jr.': 36,\n",
       " 'Charles Leclerc': 22,\n",
       " 'George Russell': 20,\n",
       " 'Lando Norris': 16,\n",
       " 'Lewis Hamilton': 12,\n",
       " 'Oscar Piastri': 10,\n",
       " 'Fernando Alonso': 7,\n",
       " 'Lance Stroll': 8,\n",
       " 'Guanyu Zhou': 11,\n",
       " 'Kevin Magnussen': 7,\n",
       " 'Daniel Ricciardo': 5,\n",
       " 'Yuki Tsunoda': -1,\n",
       " 'Alexander Albon': 0,\n",
       " 'Nico Hulkenberg': -3,\n",
       " 'Esteban Ocon': 7,\n",
       " 'Pierre Gasly': 6,\n",
       " 'Valtteri Bottas': 0,\n",
       " 'Logan Sargeant': 3}"
      ]
     },
     "execution_count": 24,
     "metadata": {},
     "output_type": "execute_result"
    }
   ],
   "source": [
    "driver_scores"
   ]
  },
  {
   "cell_type": "code",
   "execution_count": 25,
   "id": "8d1db778-a0ed-40ce-bafa-0679f9a15e12",
   "metadata": {},
   "outputs": [
    {
     "data": {
      "text/plain": [
       "{'Red Bull Racing-RBPT': 89,\n",
       " 'Ferrari': 73,\n",
       " 'Mercedes': 42,\n",
       " 'McLaren-Mercedes': 36,\n",
       " 'Aston Martin Aramco-Mercedes': 20,\n",
       " 'Stake F1 Team Kick Sauber': 10,\n",
       " 'Haas-Ferrari': 9,\n",
       " 'VisaCashApp RB': 7,\n",
       " 'Williams-Mercedes': 4,\n",
       " 'Alpine-Renault': 12}"
      ]
     },
     "execution_count": 25,
     "metadata": {},
     "output_type": "execute_result"
    }
   ],
   "source": [
    "constructor_scores"
   ]
  },
  {
   "cell_type": "code",
   "execution_count": 47,
   "id": "7bc3597b-eef7-494a-a0ed-78d2e8ef5c20",
   "metadata": {},
   "outputs": [],
   "source": [
    "predicted_df = weekend_df[['Team', 'Driver', f'predicted_qualifying_{track_name}', f'predicted_race_{track_name}']]\n",
    "predicted_df = predicted_df[predicted_df[f'predicted_qualifying_{track_name}'] <= 20]"
   ]
  },
  {
   "cell_type": "code",
   "execution_count": 37,
   "id": "4cafb4f9-e400-480a-8efa-e240249941a3",
   "metadata": {},
   "outputs": [],
   "source": [
    "# charles leclerc\n",
    "\n",
    "d = 'Charles Leclerc'\n",
    "\n",
    "predicted_qualifying = predicted_df.loc[predicted_df.Driver == d][f'predicted_qualifying_{track_name}'].values[0]\n",
    "predicted_race = predicted_df.loc[predicted_df.Driver == d][f'predicted_race_{track_name}'].values[0]"
   ]
  },
  {
   "cell_type": "code",
   "execution_count": 44,
   "id": "366b4fb5-2877-4833-8aed-c9d256e35c11",
   "metadata": {},
   "outputs": [
    {
     "data": {
      "text/plain": [
       "'Ferrari'"
      ]
     },
     "execution_count": 44,
     "metadata": {},
     "output_type": "execute_result"
    }
   ],
   "source": [
    "predicted_df.loc[predicted_df.Driver == d]['Team'].values[0]"
   ]
  },
  {
   "cell_type": "code",
   "execution_count": 49,
   "id": "1c977815-ea5a-4228-8e83-7ab60755b336",
   "metadata": {},
   "outputs": [
    {
     "data": {
      "text/html": [
       "<div>\n",
       "<style scoped>\n",
       "    .dataframe tbody tr th:only-of-type {\n",
       "        vertical-align: middle;\n",
       "    }\n",
       "\n",
       "    .dataframe tbody tr th {\n",
       "        vertical-align: top;\n",
       "    }\n",
       "\n",
       "    .dataframe thead th {\n",
       "        text-align: right;\n",
       "    }\n",
       "</style>\n",
       "<table border=\"1\" class=\"dataframe\">\n",
       "  <thead>\n",
       "    <tr style=\"text-align: right;\">\n",
       "      <th></th>\n",
       "      <th>Team</th>\n",
       "      <th>Driver</th>\n",
       "      <th>predicted_qualifying_saudi_arabia</th>\n",
       "      <th>predicted_race_saudi_arabia</th>\n",
       "    </tr>\n",
       "  </thead>\n",
       "  <tbody>\n",
       "    <tr>\n",
       "      <th>0</th>\n",
       "      <td>Red Bull Racing-RBPT</td>\n",
       "      <td>Max Verstappen</td>\n",
       "      <td>1</td>\n",
       "      <td>1</td>\n",
       "    </tr>\n",
       "    <tr>\n",
       "      <th>2</th>\n",
       "      <td>Ferrari</td>\n",
       "      <td>Charles Leclerc</td>\n",
       "      <td>2</td>\n",
       "      <td>3</td>\n",
       "    </tr>\n",
       "    <tr>\n",
       "      <th>1</th>\n",
       "      <td>Red Bull Racing-RBPT</td>\n",
       "      <td>Sergio Perez</td>\n",
       "      <td>3</td>\n",
       "      <td>2</td>\n",
       "    </tr>\n",
       "    <tr>\n",
       "      <th>4</th>\n",
       "      <td>Aston Martin Aramco-Mercedes</td>\n",
       "      <td>Fernando Alonso</td>\n",
       "      <td>4</td>\n",
       "      <td>6</td>\n",
       "    </tr>\n",
       "    <tr>\n",
       "      <th>5</th>\n",
       "      <td>Mercedes</td>\n",
       "      <td>George Russell</td>\n",
       "      <td>5</td>\n",
       "      <td>5</td>\n",
       "    </tr>\n",
       "    <tr>\n",
       "      <th>20</th>\n",
       "      <td>Ferrari</td>\n",
       "      <td>Carlos Sainz Jr.</td>\n",
       "      <td>6</td>\n",
       "      <td>4</td>\n",
       "    </tr>\n",
       "    <tr>\n",
       "      <th>7</th>\n",
       "      <td>McLaren-Mercedes</td>\n",
       "      <td>Lando Norris</td>\n",
       "      <td>7</td>\n",
       "      <td>8</td>\n",
       "    </tr>\n",
       "    <tr>\n",
       "      <th>8</th>\n",
       "      <td>Mercedes</td>\n",
       "      <td>Lewis Hamilton</td>\n",
       "      <td>8</td>\n",
       "      <td>7</td>\n",
       "    </tr>\n",
       "    <tr>\n",
       "      <th>3</th>\n",
       "      <td>McLaren-Mercedes</td>\n",
       "      <td>Oscar Piastri</td>\n",
       "      <td>9</td>\n",
       "      <td>9</td>\n",
       "    </tr>\n",
       "    <tr>\n",
       "      <th>18</th>\n",
       "      <td>Aston Martin Aramco-Mercedes</td>\n",
       "      <td>Lance Stroll</td>\n",
       "      <td>10</td>\n",
       "      <td>10</td>\n",
       "    </tr>\n",
       "    <tr>\n",
       "      <th>14</th>\n",
       "      <td>VisaCashApp RB</td>\n",
       "      <td>Yuki Tsunoda</td>\n",
       "      <td>11</td>\n",
       "      <td>11</td>\n",
       "    </tr>\n",
       "    <tr>\n",
       "      <th>19</th>\n",
       "      <td>Alpine-Renault</td>\n",
       "      <td>Pierre Gasly</td>\n",
       "      <td>12</td>\n",
       "      <td>12</td>\n",
       "    </tr>\n",
       "    <tr>\n",
       "      <th>12</th>\n",
       "      <td>Alpine-Renault</td>\n",
       "      <td>Esteban Ocon</td>\n",
       "      <td>13</td>\n",
       "      <td>13</td>\n",
       "    </tr>\n",
       "    <tr>\n",
       "      <th>15</th>\n",
       "      <td>VisaCashApp RB</td>\n",
       "      <td>Daniel Ricciardo</td>\n",
       "      <td>14</td>\n",
       "      <td>14</td>\n",
       "    </tr>\n",
       "    <tr>\n",
       "      <th>10</th>\n",
       "      <td>Williams-Mercedes</td>\n",
       "      <td>Alexander Albon</td>\n",
       "      <td>15</td>\n",
       "      <td>15</td>\n",
       "    </tr>\n",
       "    <tr>\n",
       "      <th>16</th>\n",
       "      <td>Stake F1 Team Kick Sauber</td>\n",
       "      <td>Valtteri Bottas</td>\n",
       "      <td>16</td>\n",
       "      <td>16</td>\n",
       "    </tr>\n",
       "    <tr>\n",
       "      <th>9</th>\n",
       "      <td>Haas-Ferrari</td>\n",
       "      <td>Nico Hulkenberg</td>\n",
       "      <td>17</td>\n",
       "      <td>20</td>\n",
       "    </tr>\n",
       "    <tr>\n",
       "      <th>13</th>\n",
       "      <td>Williams-Mercedes</td>\n",
       "      <td>Logan Sargeant</td>\n",
       "      <td>18</td>\n",
       "      <td>17</td>\n",
       "    </tr>\n",
       "    <tr>\n",
       "      <th>11</th>\n",
       "      <td>Haas-Ferrari</td>\n",
       "      <td>Kevin Magnussen</td>\n",
       "      <td>19</td>\n",
       "      <td>18</td>\n",
       "    </tr>\n",
       "    <tr>\n",
       "      <th>17</th>\n",
       "      <td>Stake F1 Team Kick Sauber</td>\n",
       "      <td>Guanyu Zhou</td>\n",
       "      <td>20</td>\n",
       "      <td>19</td>\n",
       "    </tr>\n",
       "  </tbody>\n",
       "</table>\n",
       "</div>"
      ],
      "text/plain": [
       "                            Team            Driver  \\\n",
       "0           Red Bull Racing-RBPT    Max Verstappen   \n",
       "2                        Ferrari   Charles Leclerc   \n",
       "1           Red Bull Racing-RBPT      Sergio Perez   \n",
       "4   Aston Martin Aramco-Mercedes   Fernando Alonso   \n",
       "5                       Mercedes    George Russell   \n",
       "20                       Ferrari  Carlos Sainz Jr.   \n",
       "7               McLaren-Mercedes      Lando Norris   \n",
       "8                       Mercedes    Lewis Hamilton   \n",
       "3               McLaren-Mercedes     Oscar Piastri   \n",
       "18  Aston Martin Aramco-Mercedes      Lance Stroll   \n",
       "14                VisaCashApp RB      Yuki Tsunoda   \n",
       "19                Alpine-Renault      Pierre Gasly   \n",
       "12                Alpine-Renault      Esteban Ocon   \n",
       "15                VisaCashApp RB  Daniel Ricciardo   \n",
       "10             Williams-Mercedes   Alexander Albon   \n",
       "16     Stake F1 Team Kick Sauber   Valtteri Bottas   \n",
       "9                   Haas-Ferrari   Nico Hulkenberg   \n",
       "13             Williams-Mercedes    Logan Sargeant   \n",
       "11                  Haas-Ferrari   Kevin Magnussen   \n",
       "17     Stake F1 Team Kick Sauber       Guanyu Zhou   \n",
       "\n",
       "    predicted_qualifying_saudi_arabia  predicted_race_saudi_arabia  \n",
       "0                                   1                            1  \n",
       "2                                   2                            3  \n",
       "1                                   3                            2  \n",
       "4                                   4                            6  \n",
       "5                                   5                            5  \n",
       "20                                  6                            4  \n",
       "7                                   7                            8  \n",
       "8                                   8                            7  \n",
       "3                                   9                            9  \n",
       "18                                 10                           10  \n",
       "14                                 11                           11  \n",
       "19                                 12                           12  \n",
       "12                                 13                           13  \n",
       "15                                 14                           14  \n",
       "10                                 15                           15  \n",
       "16                                 16                           16  \n",
       "9                                  17                           20  \n",
       "13                                 18                           17  \n",
       "11                                 19                           18  \n",
       "17                                 20                           19  "
      ]
     },
     "execution_count": 49,
     "metadata": {},
     "output_type": "execute_result"
    }
   ],
   "source": [
    "predicted_df.sort_values(by=[f'predicted_qualifying_{track_name}'])"
   ]
  },
  {
   "cell_type": "code",
   "execution_count": 48,
   "id": "d25242fc-cf1b-4dba-a27b-779dfdf71c54",
   "metadata": {},
   "outputs": [
    {
     "data": {
      "text/plain": [
       "['Max Verstappen',\n",
       " 'Charles Leclerc',\n",
       " 'Sergio Perez',\n",
       " 'Fernando Alonso',\n",
       " 'George Russell',\n",
       " 'Carlos Sainz Jr.',\n",
       " 'Lando Norris',\n",
       " 'Lewis Hamilton',\n",
       " 'Oscar Piastri',\n",
       " 'Lance Stroll',\n",
       " 'Yuki Tsunoda',\n",
       " 'Pierre Gasly',\n",
       " 'Esteban Ocon',\n",
       " 'Daniel Ricciardo',\n",
       " 'Alexander Albon',\n",
       " 'Valtteri Bottas',\n",
       " 'Nico Hulkenberg',\n",
       " 'Logan Sargeant',\n",
       " 'Kevin Magnussen',\n",
       " 'Guanyu Zhou']"
      ]
     },
     "execution_count": 48,
     "metadata": {},
     "output_type": "execute_result"
    }
   ],
   "source": [
    "predicted_qualifying_order = predicted_df.sort_values(by=[f'predicted_qualifying_{track_name}'])['Driver'].tolist()\n",
    "predicted_qualifying_order"
   ]
  },
  {
   "cell_type": "code",
   "execution_count": 38,
   "id": "93429be4-7302-45e7-9457-c9581e475e47",
   "metadata": {},
   "outputs": [
    {
     "name": "stdout",
     "output_type": "stream",
     "text": [
      "predicted qualifying position: 2\n",
      "predicted race position: 3\n"
     ]
    }
   ],
   "source": [
    "print(f'predicted qualifying position: {predicted_qualifying}')\n",
    "print(f'predicted race position: {predicted_race}')"
   ]
  },
  {
   "cell_type": "code",
   "execution_count": 61,
   "id": "1eeb9b2f-ff21-469e-9a5e-9f49694f01ff",
   "metadata": {},
   "outputs": [],
   "source": [
    "def score_race_qualifying_predicted(\n",
    "    predicted_df,\n",
    "    track_name):\n",
    "    '''\n",
    "    this function scores the predicted race and qualifying results in one go.\n",
    "    it takes the predicted from qualifying and the race, awards points for positions gained/lost and overtakes, and awards points for finish order in qualifying and in the race. \n",
    "    it awards fastest lap to the race winner because usually that's how it goes, but not always.\n",
    "    \n",
    "    parameters:\n",
    "    track_name: str, track name as it appears in the sheet_gid dict for the purpose of loading the correct track.\n",
    "    predicted_df: dataframe, a sub-df of the weekend_df that only has predicted qualifying and race positions for each driver, and non participations removed\n",
    "    \n",
    "    returns: \n",
    "    driver_scores: dict, updated dict that was passed in of the drivers' scores\n",
    "    constructor_scores: dict, updated dict that was passed in of the constructors' scores\n",
    "    '''\n",
    "    \n",
    "    # some setup\n",
    "    driver_scores, constructor_scores, driver_score_summary, constructor_score_summary = {}, {}, {}, {}\n",
    "    driver_to_constructor, constructor_to_driver = driver_constructor_mappings(predicted_df)\n",
    "    predicted_qualifying_order = predicted_df.sort_values(by=[f'predicted_qualifying_{track_name}'])['Driver'].tolist()\n",
    "    \n",
    "    # Score race and qualifying order. Assume all drivers posted a qualifying time and finished the race.\n",
    "    for driver in predicted_df.Driver:\n",
    "        constructor = predicted_df.loc[predicted_df.Driver == d]['Team'].values[0]\n",
    "        driver_score_summary[driver] = {}\n",
    "        driver_score_summary[driver]['constructor'] = constructor\n",
    "        driver_points = 0\n",
    "        constructor_points = 0\n",
    "        \n",
    "        quali_position = predicted_df.loc[predicted_df.Driver == driver][f'predicted_qualifying_{track_name}'].values[0]\n",
    "        race_position = predicted_df.loc[predicted_df.Driver == driver][f'predicted_race_{track_name}'].values[0]\n",
    "\n",
    "        # assume gain/loss and overtakes are strictly due to difference between qualifying and race positions\n",
    "        # overtakes cannot be negative\n",
    "        driver_gain_loss = quali_position - race_position\n",
    "        driver_overtake = (driver_gain_loss if driver_gain_loss >= 0 else 0)\n",
    "        \n",
    "        driver_score_summary[driver]['quali_position'] = quali_position\n",
    "        driver_score_summary[driver]['race_position'] = race_position\n",
    "        driver_score_summary[driver]['gain_loss'] = driver_gain_loss\n",
    "        driver_score_summary[driver]['overtake'] = driver_overtake\n",
    "        \n",
    "        # score driver and constructor for finishing position\n",
    "        # +1-25 for position\n",
    "        race_position_points = race_position_to_points.get(race_position)\n",
    "        quali_position_points = quali_position_to_points.get(quali_position)\n",
    "        \n",
    "        # tally up the gain/loss, overtake, race position points, and quali position points\n",
    "        driver_points += driver_gain_loss + driver_overtake + race_position_points + quali_position_points\n",
    "        constructor_points += driver_gain_loss + driver_overtake + race_position_points + quali_position_points\n",
    "        \n",
    "        driver_score_summary[driver]['quali_position_points'] = quali_position_points\n",
    "        driver_score_summary[driver]['race_position_points'] = race_position_points\n",
    "        \n",
    "        driver_scores = increase_score(driver_scores, driver, driver_points)\n",
    "        constructor_scores = increase_score(constructor_scores, constructor, constructor_points)\n",
    "    \n",
    "        \n",
    "    # Score constructors' qualification results based on how the drivers qualify. Assume all drivers post a qualifying position\n",
    "    for constructor, drivers in constructor_to_driver.items():\n",
    "        constructor_score_summary[constructor] = {}\n",
    "        \n",
    "        # which qualifying position did each driver finish in\n",
    "        team_qualifying_positions = [predicted_qualifying_order.index(driver)+1 for driver in drivers]\n",
    "        \n",
    "        # which qualifying round did each driver finish in\n",
    "        team_qualifying_rounds = list(map(lambda p: quali_result(p), team_qualifying_positions))\n",
    "        \n",
    "        # points for \n",
    "        quali_position_points = sum(map(lambda d: quali_position_to_points[d], team_qualifying_positions))\n",
    "\n",
    "        q3_tot = [x for x in team_qualifying_rounds if x == 'Q3']\n",
    "        q2_tot = [x for x in team_qualifying_rounds if x == 'Q2']\n",
    "\n",
    "        # q3 finishers\n",
    "        if len(q3_tot) == 2:\n",
    "            team_quali_score = 10\n",
    "        elif len(q3_tot) == 1:\n",
    "            team_quali_score = 5\n",
    "                \n",
    "        # q2 finishers\n",
    "        elif len(q2_tot) == 2:\n",
    "            team_quali_score = 3\n",
    "        elif len(q2_tot) == 1:\n",
    "            team_quali_score = 1\n",
    "\n",
    "        # nobody got past q1\n",
    "        else:\n",
    "            team_quali_score = -1\n",
    "            \n",
    "        constructor_scores = increase_score(constructor_scores, constructor, team_quali_score)\n",
    "        \n",
    "        constructor_score_summary[constructor]['quali_position_points'] = quali_position_points\n",
    "        constructor_score_summary[constructor]['quali_finish_points'] = team_quali_score\n",
    "        constructor_score_summary[constructor]['quali_results'] = {drivers[0]: team_qualifying_positions[0], drivers[1]: team_qualifying_positions[1]}\n",
    "        \n",
    "    # award fastest lap to driver predicted to finish race in P1\n",
    "    fastest_driver = predicted_df.sort_values(f'predicted_race_{track_name}')['Driver'].tolist()[0]\n",
    "    driver_scores = increase_score(driver_scores, fastest_driver, 10)\n",
    "\n",
    "    return driver_scores, constructor_scores, driver_score_summary, constructor_score_summary"
   ]
  },
  {
   "cell_type": "code",
   "execution_count": 62,
   "id": "e7348d51-781d-4ccf-8fde-11990b9efa6d",
   "metadata": {},
   "outputs": [],
   "source": [
    "driver_scores, constructor_scores, driver_score_summary, constructor_score_summary = score_race_qualifying_predicted(predicted_df, 'saudi_arabia')"
   ]
  },
  {
   "cell_type": "code",
   "execution_count": 63,
   "id": "f0c3159e-4c43-48bf-a449-bbf8d2d621eb",
   "metadata": {},
   "outputs": [
    {
     "data": {
      "text/plain": [
       "{'Max Verstappen': 45,\n",
       " 'Sergio Perez': 28,\n",
       " 'Charles Leclerc': 23,\n",
       " 'Oscar Piastri': 4,\n",
       " 'Fernando Alonso': 13,\n",
       " 'George Russell': 16,\n",
       " 'Lando Norris': 7,\n",
       " 'Lewis Hamilton': 11,\n",
       " 'Nico Hulkenberg': -3,\n",
       " 'Alexander Albon': 0,\n",
       " 'Kevin Magnussen': 2,\n",
       " 'Esteban Ocon': 0,\n",
       " 'Logan Sargeant': 2,\n",
       " 'Yuki Tsunoda': 0,\n",
       " 'Daniel Ricciardo': 0,\n",
       " 'Valtteri Bottas': 0,\n",
       " 'Guanyu Zhou': 2,\n",
       " 'Lance Stroll': 2,\n",
       " 'Pierre Gasly': 0,\n",
       " 'Carlos Sainz Jr.': 21}"
      ]
     },
     "execution_count": 63,
     "metadata": {},
     "output_type": "execute_result"
    }
   ],
   "source": [
    "driver_scores"
   ]
  },
  {
   "cell_type": "code",
   "execution_count": 64,
   "id": "c9f558d7-1e47-4abc-a0fd-9b650da71de4",
   "metadata": {},
   "outputs": [
    {
     "data": {
      "text/plain": [
       "{'Ferrari': 173,\n",
       " 'Red Bull Racing-RBPT': 10,\n",
       " 'McLaren-Mercedes': 10,\n",
       " 'Aston Martin Aramco-Mercedes': 10,\n",
       " 'Mercedes': 10,\n",
       " 'Haas-Ferrari': -1,\n",
       " 'Williams-Mercedes': 1,\n",
       " 'Alpine-Renault': 3,\n",
       " 'VisaCashApp RB': 3,\n",
       " 'Stake F1 Team Kick Sauber': -1}"
      ]
     },
     "execution_count": 64,
     "metadata": {},
     "output_type": "execute_result"
    }
   ],
   "source": [
    "constructor_scores"
   ]
  },
  {
   "cell_type": "code",
   "execution_count": 65,
   "id": "10208f29-9a92-4847-a547-233a2c37c9b5",
   "metadata": {},
   "outputs": [
    {
     "data": {
      "text/plain": [
       "{'quali_position_points': 14,\n",
       " 'quali_finish_points': 10,\n",
       " 'quali_results': {'Charles Leclerc': 2, 'Carlos Sainz Jr.': 6}}"
      ]
     },
     "execution_count": 65,
     "metadata": {},
     "output_type": "execute_result"
    }
   ],
   "source": [
    "constructor_score_summary['Ferrari']"
   ]
  },
  {
   "cell_type": "code",
   "execution_count": 19,
   "id": "f8d85ca2-e53f-4540-810d-738185582206",
   "metadata": {},
   "outputs": [
    {
     "data": {
      "text/plain": [
       "['Max Verstappen',\n",
       " 'Lance Stroll',\n",
       " 'Yuki Tsunoda',\n",
       " 'Pierre Gasly',\n",
       " 'Esteban Ocon',\n",
       " 'Daniel Ricciardo',\n",
       " 'Alexander Albon',\n",
       " 'Valtteri Bottas',\n",
       " 'Nico Hulkenberg',\n",
       " 'Logan Sargeant',\n",
       " 'Kevin Magnussen',\n",
       " 'Charles Leclerc',\n",
       " 'Guanyu Zhou',\n",
       " 'Sergio Perez',\n",
       " 'Fernando Alonso',\n",
       " 'George Russell',\n",
       " 'Carlos Sainz Jr.',\n",
       " 'Lando Norris',\n",
       " 'Lewis Hamilton',\n",
       " 'Oscar Piastri',\n",
       " 'Oliver Bearman']"
      ]
     },
     "execution_count": 19,
     "metadata": {},
     "output_type": "execute_result"
    }
   ],
   "source": [
    "predicted_qualifying_order"
   ]
  },
  {
   "cell_type": "code",
   "execution_count": 15,
   "id": "c164c40d-c37a-49d8-b6b9-e0f75bc04a0a",
   "metadata": {},
   "outputs": [
    {
     "data": {
      "text/plain": [
       "['Max Verstappen',\n",
       " 'Lance Stroll',\n",
       " 'Yuki Tsunoda',\n",
       " 'Pierre Gasly',\n",
       " 'Esteban Ocon',\n",
       " 'Daniel Ricciardo',\n",
       " 'Alexander Albon',\n",
       " 'Valtteri Bottas',\n",
       " 'Logan Sargeant',\n",
       " 'Kevin Magnussen',\n",
       " 'Guanyu Zhou',\n",
       " 'Sergio Perez',\n",
       " 'Nico Hulkenberg',\n",
       " 'Charles Leclerc',\n",
       " 'Carlos Sainz Jr.',\n",
       " 'George Russell',\n",
       " 'Fernando Alonso',\n",
       " 'Lewis Hamilton',\n",
       " 'Lando Norris',\n",
       " 'Oscar Piastri',\n",
       " 'Oliver Bearman']"
      ]
     },
     "execution_count": 15,
     "metadata": {},
     "output_type": "execute_result"
    }
   ],
   "source": [
    "predicted_race_order"
   ]
  },
  {
   "cell_type": "code",
   "execution_count": 16,
   "id": "0b73669e-a62e-4936-974d-354ce3992601",
   "metadata": {},
   "outputs": [
    {
     "ename": "TypeError",
     "evalue": "unsupported operand type(s) for -: 'str' and 'str'",
     "output_type": "error",
     "traceback": [
      "\u001b[0;31m---------------------------------------------------------------------------\u001b[0m",
      "\u001b[0;31mTypeError\u001b[0m                                 Traceback (most recent call last)",
      "\u001b[0;32m<ipython-input-16-33da3502eb9a>\u001b[0m in \u001b[0;36m<module>\u001b[0;34m\u001b[0m\n\u001b[0;32m----> 1\u001b[0;31m \u001b[0mdriver_scores\u001b[0m\u001b[0;34m,\u001b[0m \u001b[0mconstructor_scores\u001b[0m\u001b[0;34m,\u001b[0m \u001b[0mdriver_score_summary\u001b[0m\u001b[0;34m,\u001b[0m \u001b[0mconstructor_score_summary\u001b[0m \u001b[0;34m=\u001b[0m  \u001b[0mscore_race_qualifying_predicted\u001b[0m\u001b[0;34m(\u001b[0m\u001b[0mpredicted_qualifying_order\u001b[0m\u001b[0;34m,\u001b[0m \u001b[0mpredicted_race_order\u001b[0m\u001b[0;34m,\u001b[0m \u001b[0mdriver_scores\u001b[0m\u001b[0;34m,\u001b[0m \u001b[0mconstructor_scores\u001b[0m\u001b[0;34m,\u001b[0m \u001b[0mdriver_to_constructor\u001b[0m\u001b[0;34m,\u001b[0m \u001b[0mconstructor_to_driver\u001b[0m\u001b[0;34m)\u001b[0m\u001b[0;34m\u001b[0m\u001b[0;34m\u001b[0m\u001b[0m\n\u001b[0m",
      "\u001b[0;32m<ipython-input-13-3e5fe1ebfe68>\u001b[0m in \u001b[0;36mscore_race_qualifying_predicted\u001b[0;34m(quali_order, race_order, driver_scores, constructor_scores, driver_to_constructor, constructor_to_driver)\u001b[0m\n\u001b[1;32m     40\u001b[0m         \u001b[0;31m# assume gain/loss and overtakes are strictly due to difference between qualifying and race positions\u001b[0m\u001b[0;34m\u001b[0m\u001b[0;34m\u001b[0m\u001b[0;34m\u001b[0m\u001b[0m\n\u001b[1;32m     41\u001b[0m         \u001b[0;31m# overtakes cannot be negative\u001b[0m\u001b[0;34m\u001b[0m\u001b[0;34m\u001b[0m\u001b[0;34m\u001b[0m\u001b[0m\n\u001b[0;32m---> 42\u001b[0;31m         \u001b[0mdriver_gain_loss\u001b[0m \u001b[0;34m=\u001b[0m \u001b[0mquali_position\u001b[0m \u001b[0;34m-\u001b[0m \u001b[0mrace_position\u001b[0m\u001b[0;34m\u001b[0m\u001b[0;34m\u001b[0m\u001b[0m\n\u001b[0m\u001b[1;32m     43\u001b[0m         \u001b[0mdriver_overtake\u001b[0m \u001b[0;34m=\u001b[0m \u001b[0;34m(\u001b[0m\u001b[0mdriver_gain_loss\u001b[0m \u001b[0;32mif\u001b[0m \u001b[0mdriver_gain_loss\u001b[0m \u001b[0;34m>=\u001b[0m \u001b[0;36m0\u001b[0m \u001b[0;32melse\u001b[0m \u001b[0;36m0\u001b[0m\u001b[0;34m)\u001b[0m\u001b[0;34m\u001b[0m\u001b[0;34m\u001b[0m\u001b[0m\n\u001b[1;32m     44\u001b[0m \u001b[0;34m\u001b[0m\u001b[0m\n",
      "\u001b[0;31mTypeError\u001b[0m: unsupported operand type(s) for -: 'str' and 'str'"
     ]
    }
   ],
   "source": [
    "driver_scores, constructor_scores, driver_score_summary, constructor_score_summary =  score_race_qualifying_predicted(predicted_qualifying_order, predicted_race_order, driver_scores, constructor_scores, driver_to_constructor, constructor_to_driver)"
   ]
  },
  {
   "cell_type": "code",
   "execution_count": 124,
   "id": "fc77635b-fc3f-4f9d-9098-2e883efa37a8",
   "metadata": {},
   "outputs": [
    {
     "data": {
      "text/plain": [
       "[1, 3]"
      ]
     },
     "execution_count": 124,
     "metadata": {},
     "output_type": "execute_result"
    }
   ],
   "source": [
    "drivers = ['Max Verstappen', 'Sergio Perez']\n",
    "[predicted_qualifying_order.index(driver)+1 for driver in drivers]"
   ]
  },
  {
   "cell_type": "code",
   "execution_count": 128,
   "id": "ce78c599-f2f5-4e95-a888-326931089951",
   "metadata": {},
   "outputs": [],
   "source": [
    "team_qualifying_positions = [predicted_qualifying_order.index(driver)+1 for driver in drivers]\n",
    "team_qualifying_rounds = list(map(lambda p: quali_result(p), team_qualifying_positions))"
   ]
  },
  {
   "cell_type": "code",
   "execution_count": 129,
   "id": "63992acf-18b8-474d-8db8-98ebc27ae386",
   "metadata": {},
   "outputs": [
    {
     "data": {
      "text/plain": [
       "['Q3', 'Q3']"
      ]
     },
     "execution_count": 129,
     "metadata": {},
     "output_type": "execute_result"
    }
   ],
   "source": [
    "team_qualifying_rounds"
   ]
  },
  {
   "cell_type": "code",
   "execution_count": 127,
   "id": "5e5a2a94-8f0b-409c-a870-99a0fc24ad27",
   "metadata": {},
   "outputs": [
    {
     "data": {
      "text/plain": [
       "'Q3'"
      ]
     },
     "execution_count": 127,
     "metadata": {},
     "output_type": "execute_result"
    }
   ],
   "source": [
    "quali_result(1)"
   ]
  },
  {
   "cell_type": "code",
   "execution_count": 126,
   "id": "fad17c12-ba4a-4bc8-a390-c0ed9811649f",
   "metadata": {},
   "outputs": [
    {
     "data": {
      "text/plain": [
       "[1, 3]"
      ]
     },
     "execution_count": 126,
     "metadata": {},
     "output_type": "execute_result"
    }
   ],
   "source": [
    "team_qualifying_positions"
   ]
  },
  {
   "cell_type": "code",
   "execution_count": 123,
   "id": "7d3b1bd7-3d21-4df2-b21a-9384bd4478b0",
   "metadata": {},
   "outputs": [
    {
     "ename": "TypeError",
     "evalue": "'function' object is not iterable",
     "output_type": "error",
     "traceback": [
      "\u001b[0;31m---------------------------------------------------------------------------\u001b[0m",
      "\u001b[0;31mTypeError\u001b[0m                                 Traceback (most recent call last)",
      "\u001b[0;32m<ipython-input-123-d61b1e60151b>\u001b[0m in \u001b[0;36m<module>\u001b[0;34m\u001b[0m\n\u001b[0;32m----> 1\u001b[0;31m \u001b[0msum\u001b[0m\u001b[0;34m(\u001b[0m\u001b[0;32mlambda\u001b[0m \u001b[0md\u001b[0m\u001b[0;34m:\u001b[0m \u001b[0mquali_position_to_points\u001b[0m\u001b[0;34m[\u001b[0m\u001b[0md\u001b[0m\u001b[0;34m]\u001b[0m\u001b[0;34m,\u001b[0m \u001b[0;34m[\u001b[0m\u001b[0mpredicted_qualifying_order\u001b[0m\u001b[0;34m.\u001b[0m\u001b[0mindex\u001b[0m\u001b[0;34m(\u001b[0m\u001b[0mdriver\u001b[0m\u001b[0;34m)\u001b[0m\u001b[0;34m+\u001b[0m\u001b[0;36m1\u001b[0m \u001b[0;32mfor\u001b[0m \u001b[0mdriver\u001b[0m \u001b[0;32min\u001b[0m \u001b[0mdrivers\u001b[0m\u001b[0;34m]\u001b[0m\u001b[0;34m)\u001b[0m\u001b[0;34m\u001b[0m\u001b[0;34m\u001b[0m\u001b[0m\n\u001b[0m",
      "\u001b[0;31mTypeError\u001b[0m: 'function' object is not iterable"
     ]
    }
   ],
   "source": [
    "sum(lambda d: quali_position_to_points[d], [predicted_qualifying_order.index(driver)+1 for driver in drivers])"
   ]
  },
  {
   "cell_type": "code",
   "execution_count": 98,
   "id": "c4bdfa35-9c7c-4590-a689-30716c4ad47c",
   "metadata": {},
   "outputs": [],
   "source": [
    "driver_scores, constructor_scores, driver_score_summary, constructor_score_summary = {}, {}, {}, {}"
   ]
  },
  {
   "cell_type": "code",
   "execution_count": 100,
   "id": "37ff7726-78ec-4589-a880-15faf409637f",
   "metadata": {},
   "outputs": [],
   "source": [
    "driver_scores, constructor_scores, driver_score_summary, constructor_score_summary = score_qualification_order(predicted_qualifying_order, driver_scores, constructor_scores, driver_to_constructor, constructor_to_driver, driver_score_summary, constructor_score_summary)\n"
   ]
  },
  {
   "cell_type": "code",
   "execution_count": 101,
   "id": "c2f69720-9913-471c-8828-a20f4e556326",
   "metadata": {},
   "outputs": [
    {
     "data": {
      "text/plain": [
       "{'Red Bull Racing-RBPT': 25,\n",
       " 'Ferrari': 25,\n",
       " 'Mercedes': 25,\n",
       " 'McLaren-Mercedes': 16,\n",
       " 'Aston Martin Aramco-Mercedes': 8,\n",
       " 'VisaCashApp RB': 6,\n",
       " 'Alpine-Renault': 3,\n",
       " 'Haas-Ferrari': 1,\n",
       " 'Stake F1 Team Kick Sauber': -1,\n",
       " 'Williams-Mercedes': -1}"
      ]
     },
     "execution_count": 101,
     "metadata": {},
     "output_type": "execute_result"
    }
   ],
   "source": [
    "constructor_scores"
   ]
  },
  {
   "cell_type": "code",
   "execution_count": 102,
   "id": "9fc71c59-fdeb-476a-a23b-46f8cdcd0a6b",
   "metadata": {},
   "outputs": [
    {
     "data": {
      "text/plain": [
       "{'Max Verstappen': 10,\n",
       " 'Charles Leclerc': 9,\n",
       " 'Lewis Hamilton': 8,\n",
       " 'George Russell': 7,\n",
       " 'Carlos Sainz Jr.': 6,\n",
       " 'Sergio Perez': 5,\n",
       " 'Lando Norris': 4,\n",
       " 'Fernando Alonso': 3,\n",
       " 'Oscar Piastri': 2,\n",
       " 'Daniel Ricciardo': 1,\n",
       " 'Yuki Tsunoda': 0,\n",
       " 'Lance Stroll': 0,\n",
       " 'Esteban Ocon': 0,\n",
       " 'Pierre Gasly': 0,\n",
       " 'Kevin Magnussen': 0,\n",
       " 'Guanyu Zhou': 0,\n",
       " 'Alexander Albon': 0,\n",
       " 'Valtteri Bottas': 0,\n",
       " 'Nico Hulkenberg': 0,\n",
       " 'Logan Sargeant': 0}"
      ]
     },
     "execution_count": 102,
     "metadata": {},
     "output_type": "execute_result"
    }
   ],
   "source": [
    "driver_scores"
   ]
  },
  {
   "cell_type": "code",
   "execution_count": 105,
   "id": "2d47d435-bf16-41d9-aaff-575d67f1e8b6",
   "metadata": {},
   "outputs": [
    {
     "data": {
      "text/plain": [
       "{'quali_position_points': 15,\n",
       " 'quali_finish_points': 10,\n",
       " 'quali_results': {'Carlos Sainz Jr.': 5, 'Charles Leclerc': 2}}"
      ]
     },
     "execution_count": 105,
     "metadata": {},
     "output_type": "execute_result"
    }
   ],
   "source": [
    "constructor_score_summary['Ferrari']"
   ]
  },
  {
   "cell_type": "code",
   "execution_count": null,
   "id": "f3010d4c-f673-4de7-97e0-40fdbcb8ebe7",
   "metadata": {},
   "outputs": [],
   "source": [
    "def score_superlatives(\n",
    "    fastest_driver,\n",
    "    driver_ofthe_day,\n",
    "    fastest_constructor,\n",
    "    second_fastest_constructor,\n",
    "    third_fastest_constructor,\n",
    "    driver_scores,\n",
    "    constructor_scores_dict,\n",
    "    driver_to_constructor,\n",
    "    driver_score_summary,\n",
    "    constructor_score_summary):\n",
    "    '''\n",
    "    This scores the extra bits after the race is over. Fastest drive,r driver of the day, fastest and second fastest pitstops.\n",
    "    \n",
    "    params:\n",
    "    fastest_driver: string\n",
    "    driver_ofthe_day: string\n",
    "    fastest_constructor: string\n",
    "    second_fastest_constructor: string\n",
    "    driver_scores: dictionary\n",
    "    constructor_scores_dict: dictionary\n",
    "    \n",
    "    returns:\n",
    "    driver_scores: dictionary\n",
    "    constructor_scores_dict: dictionary\n",
    "    '''\n",
    "    # fastest lap\n",
    "    driver_scores = increase_score(driver_scores, fastest_driver, 10)\n",
    "    constructor_scores = increase_score(constructor_scores, driver_to_constructor[fastest_driver], 10)\n",
    "    \n",
    "    driver_score_summary[fastest_driver]['fastest_lap'] = 10\n",
    "    constructor_score_summary[driver_to_constructor[fastest_driver]]['fastest_lap'] = 10\n",
    "    \n",
    "    \n",
    "    # driver of the day\n",
    "    driver_scores = increase_score(driver_scores, driver_ofthe_day, 10)\n",
    "    \n",
    "    driver_score_summary[driver_ofthe_day]['driver_of_the_day'] = 10\n",
    "    \n",
    "    \n",
    "    # fastest pitstop\n",
    "    constructor_scores = increase_score(constructor_scores, fastest_constructor, 10)\n",
    "    \n",
    "    constructor_score_summary[fastest_constructor]['fastest_pitstop'] = 10\n",
    "    \n",
    "    \n",
    "    # second fastest pitstop\n",
    "    constructor_scores = increase_score(constructor_scores, second_fastest_constructor, 5)\n",
    "    \n",
    "    constructor_score_summary[second_fastest_constructor]['second_fastest_pitstop'] = 5\n",
    "    \n",
    "    \n",
    "    # third fastest pitstop\n",
    "    constructor_scores = increase_score(constructor_scores, third_fastest_constructor, 3)\n",
    "    \n",
    "    constructor_score_summary[third_fastest_constructor]['third_fastest_pitstop'] = 3\n",
    "\n",
    "    \n",
    "    return driver_scores, constructor_scores_dict, driver_score_summary, constructor_score_summary"
   ]
  },
  {
   "cell_type": "code",
   "execution_count": null,
   "id": "e4bbd5e8-8ac3-4e75-a70f-da85bdd07164",
   "metadata": {},
   "outputs": [],
   "source": [
    "driver_scores = {}\n",
    "constructor_scores = {}"
   ]
  },
  {
   "cell_type": "code",
   "execution_count": null,
   "id": "1247ca22-951d-4ff7-8d94-a9ae94de695d",
   "metadata": {},
   "outputs": [],
   "source": [
    "driver_scores, constructor_scores, driver_score_summary, constructor_score_summary = score_race_order(\n",
    "    actual_qualifying_order,\n",
    "    actual_race_order,\n",
    "    driver_scores,\n",
    "    constructor_scores,\n",
    "    driver_to_constructor,\n",
    "    constructor_to_driver)\n",
    "\n",
    "driver_scores, constructor_scores, driver_score_summary, constructor_score_summary = score_qualification_order(\n",
    "    actual_qualifying_order,\n",
    "    driver_scores,\n",
    "    constructor_scores,\n",
    "    driver_to_constructor,\n",
    "    constructor_to_driver,\n",
    "    driver_score_summary,\n",
    "    constructor_score_summary)\n"
   ]
  },
  {
   "cell_type": "code",
   "execution_count": null,
   "id": "f8f9674b-96f5-4e88-b631-79da560e9d69",
   "metadata": {},
   "outputs": [],
   "source": [
    "driver_score_summary['Max Verstappen']"
   ]
  },
  {
   "cell_type": "code",
   "execution_count": null,
   "id": "a2ed333d-ecdd-4285-b6a1-f446a585c151",
   "metadata": {},
   "outputs": [],
   "source": [
    "actual_qualifying_order"
   ]
  },
  {
   "cell_type": "code",
   "execution_count": null,
   "id": "e7be31a9-0ea8-4bc3-95c0-1a20230119f2",
   "metadata": {},
   "outputs": [],
   "source": [
    "driver_scores, constructor_scores = score_superlatives('Max Verstappen', 'Carlos Sainz Jr.', 'Ferrari', 'Ferrari', 'Red Bull Racing-RBPT', driver_scores, constructor_scores, driver_to_constructor)"
   ]
  },
  {
   "cell_type": "code",
   "execution_count": null,
   "id": "7db3dcc5-890f-40e4-8619-84b295a7c21a",
   "metadata": {},
   "outputs": [],
   "source": [
    "driver_scores"
   ]
  },
  {
   "cell_type": "code",
   "execution_count": null,
   "id": "4638db81-9ca4-44ac-bade-60f5f3a8b69d",
   "metadata": {},
   "outputs": [],
   "source": [
    "constructor_scores"
   ]
  },
  {
   "cell_type": "code",
   "execution_count": null,
   "id": "9235272a-2251-4b1c-a59f-26ef48aa81aa",
   "metadata": {},
   "outputs": [],
   "source": [
    "constructor_score_summary['Aston Martin Aramco-Mercedes']"
   ]
  },
  {
   "cell_type": "code",
   "execution_count": null,
   "id": "7f092ddd-64bf-4412-9698-cc0f1821aea7",
   "metadata": {},
   "outputs": [],
   "source": []
  }
 ],
 "metadata": {
  "kernelspec": {
   "display_name": "Python 3",
   "language": "python",
   "name": "python3"
  },
  "language_info": {
   "codemirror_mode": {
    "name": "ipython",
    "version": 3
   },
   "file_extension": ".py",
   "mimetype": "text/x-python",
   "name": "python",
   "nbconvert_exporter": "python",
   "pygments_lexer": "ipython3",
   "version": "3.8.8"
  }
 },
 "nbformat": 4,
 "nbformat_minor": 5
}
